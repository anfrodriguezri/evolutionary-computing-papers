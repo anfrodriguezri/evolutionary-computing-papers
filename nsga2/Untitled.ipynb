{
 "cells": [
  {
   "cell_type": "code",
   "execution_count": 1,
   "metadata": {},
   "outputs": [],
   "source": [
    "import nsga2\n",
    "from nsga2 import ObjectiveFunction, tournament\n",
    "import numpy as np\n",
    "from individual import Individual"
   ]
  },
  {
   "cell_type": "code",
   "execution_count": 2,
   "metadata": {},
   "outputs": [],
   "source": [
    "def f1(x):\n",
    "    n = len(x)\n",
    "    return 1 - np.exp(-np.sum((x - 1/np.sqrt(n))**2))"
   ]
  },
  {
   "cell_type": "code",
   "execution_count": 3,
   "metadata": {},
   "outputs": [],
   "source": [
    "def f2(x):\n",
    "    n = len(x)\n",
    "    return 1 - np.exp(-np.sum((x + 1/np.sqrt(n))**2))"
   ]
  },
  {
   "cell_type": "code",
   "execution_count": 4,
   "metadata": {},
   "outputs": [],
   "source": [
    "obj1 = ObjectiveFunction(\"min\", [-4,4], f1)\n",
    "obj2 = ObjectiveFunction(\"min\", [-4,4], f2)\n",
    "objectives = [obj1, obj2]"
   ]
  },
  {
   "cell_type": "code",
   "execution_count": 5,
   "metadata": {},
   "outputs": [],
   "source": [
    "P = [Individual(np.random.uniform(-4, 4, size=3)) for i in range(100)]"
   ]
  },
  {
   "cell_type": "code",
   "execution_count": 6,
   "metadata": {
    "scrolled": true
   },
   "outputs": [
    {
     "data": {
      "text/plain": [
       "{1: [0, 22, 26, 95],\n",
       " 2: [7, 36],\n",
       " 3: [4, 84, 92],\n",
       " 4: [40, 64, 46, 78, 23, 86],\n",
       " 5: [67, 30, 9, 10, 34, 61, 74],\n",
       " 6: [77, 27, 81, 24, 62],\n",
       " 7: [20, 97, 50, 21, 12, 70, 88, 39],\n",
       " 8: [79, 1, 2, 52, 59],\n",
       " 9: [73, 91, 18, 31, 90],\n",
       " 10: [93, 71, 43, 65, 69, 58, 94],\n",
       " 11: [44, 98, 19, 89, 68, 75, 14],\n",
       " 12: [38, 47, 87, 32, 55, 53, 85, 6],\n",
       " 13: [42, 76, 54, 72, 3, 60, 82],\n",
       " 14: [5, 66, 80, 8, 83],\n",
       " 15: [49, 48, 57],\n",
       " 16: [13, 33, 45, 25],\n",
       " 17: [17, 96, 16],\n",
       " 18: [28, 37, 56],\n",
       " 19: [29, 41],\n",
       " 20: [35, 11, 51],\n",
       " 21: [99, 63],\n",
       " 22: [15],\n",
       " 23: []}"
      ]
     },
     "execution_count": 6,
     "metadata": {},
     "output_type": "execute_result"
    }
   ],
   "source": [
    "nsga2.fast_non_dominated_sort(P, objectives)"
   ]
  },
  {
   "cell_type": "code",
   "execution_count": 7,
   "metadata": {},
   "outputs": [],
   "source": [
    "A = P[52]"
   ]
  },
  {
   "cell_type": "code",
   "execution_count": 8,
   "metadata": {},
   "outputs": [
    {
     "name": "stdout",
     "output_type": "stream",
     "text": [
      "0.9999711938753294\n",
      "0.9999987794115363\n"
     ]
    }
   ],
   "source": [
    "print(A.eval(f1))\n",
    "print(A.eval(f2))"
   ]
  },
  {
   "cell_type": "code",
   "execution_count": 9,
   "metadata": {},
   "outputs": [
    {
     "data": {
      "text/plain": [
       "array([ 1.89240086,  1.65099418, -2.17453149])"
      ]
     },
     "execution_count": 9,
     "metadata": {},
     "output_type": "execute_result"
    }
   ],
   "source": [
    "A.chromosome"
   ]
  },
  {
   "cell_type": "code",
   "execution_count": 14,
   "metadata": {},
   "outputs": [],
   "source": [
    "sel = tournament(P, 20, 2)"
   ]
  },
  {
   "cell_type": "code",
   "execution_count": 15,
   "metadata": {},
   "outputs": [
    {
     "data": {
      "text/plain": [
       "[4, 8, 6, 6, 7, 3, 5, 2, 7, 7, 13, 7, 4, 9, 5, 8, 11, 4, 10, 8]"
      ]
     },
     "execution_count": 15,
     "metadata": {},
     "output_type": "execute_result"
    }
   ],
   "source": [
    "[x.rank for x in sel]"
   ]
  },
  {
   "cell_type": "code",
   "execution_count": null,
   "metadata": {},
   "outputs": [],
   "source": []
  }
 ],
 "metadata": {
  "kernelspec": {
   "display_name": "Python 3",
   "language": "python",
   "name": "python3"
  },
  "language_info": {
   "codemirror_mode": {
    "name": "ipython",
    "version": 2
   },
   "file_extension": ".py",
   "mimetype": "text/x-python",
   "name": "python",
   "nbconvert_exporter": "python",
   "pygments_lexer": "ipython2",
   "version": "2.7.14"
  }
 },
 "nbformat": 4,
 "nbformat_minor": 2
}
